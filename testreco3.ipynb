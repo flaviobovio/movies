{
 "cells": [
  {
   "cell_type": "code",
   "execution_count": 16,
   "metadata": {},
   "outputs": [
    {
     "name": "stderr",
     "output_type": "stream",
     "text": [
      "[nltk_data] Downloading package punkt to /home/ozzy/nltk_data...\n",
      "[nltk_data]   Package punkt is already up-to-date!\n",
      "[nltk_data] Downloading package stopwords to /home/ozzy/nltk_data...\n",
      "[nltk_data]   Package stopwords is already up-to-date!\n"
     ]
    }
   ],
   "source": [
    "import pandas as pd\n",
    "import numpy as np\n",
    "import re\n",
    "from sklearn.feature_extraction.text import TfidfVectorizer\n",
    "from sklearn.feature_extraction.text import CountVectorizer\n",
    "from sklearn.metrics.pairwise import cosine_similarity\n",
    "import nltk\n",
    "from nltk.stem import PorterStemmer\n",
    "# Esto sirve para configurar NLTK. La primera vez puede tardar un poco\n",
    "nltk.download('punkt')\n",
    "nltk.download('stopwords')\n",
    "stopwords = nltk.corpus.stopwords.words('english')\n"
   ]
  },
  {
   "cell_type": "code",
   "execution_count": 17,
   "metadata": {},
   "outputs": [],
   "source": [
    "df = pd.read_parquet('data/movies.pq')"
   ]
  },
  {
   "cell_type": "code",
   "execution_count": 3,
   "metadata": {},
   "outputs": [
    {
     "data": {
      "text/plain": [
       "(16483, 21)"
      ]
     },
     "execution_count": 3,
     "metadata": {},
     "output_type": "execute_result"
    }
   ],
   "source": [
    "df = df[df.release_year>'1990']\n",
    "df = df[df.release_year<'2010']\n",
    "df.shape"
   ]
  },
  {
   "cell_type": "code",
   "execution_count": 4,
   "metadata": {},
   "outputs": [],
   "source": [
    "stemmer = PorterStemmer()\n",
    "def content(row):\n",
    "\n",
    "    cont = row.overview\n",
    "    # Vamos a reemplzar los caracteres que no sean leras por espacios\n",
    "    cont=re.sub(\"[^a-zA-Z]\",\" \",str(cont))\n",
    "    # Pasamos todo a minúsculas\n",
    "    cont=cont.lower()\n",
    "    # Tokenizamos para separar las palabras del cont\n",
    "    cont=nltk.word_tokenize(cont)\n",
    "    # Eliminamos las palabras de menos de 3 letras\n",
    "    cont = [palabra for palabra in cont if len(palabra)>3]\n",
    "    # Sacamos las Stopwords\n",
    "    cont = [palabra for palabra in cont if not palabra in stopwords]\n",
    "\n",
    "\n",
    "\n",
    "\n",
    "\n",
    "    #Keep the first 20 words\n",
    "    cont= cont[:20]\n",
    "    \n",
    "    ## Hasta acá Normalizamos, ahora a stemmizar\n",
    "    \n",
    "    # Aplicamos la funcion para buscar la raiz de las palabras\n",
    "    cont=[stemmer.stem(palabra) for palabra in cont]\n",
    "    # Por ultimo volvemos a unir el cont\n",
    "    cont= row.title.lower() + \" \" + \" \".join(cont)\n",
    "\n",
    "    return cont\n",
    "\n",
    "df['content'] = df.apply(content, axis=1)"
   ]
  },
  {
   "cell_type": "code",
   "execution_count": 18,
   "metadata": {},
   "outputs": [],
   "source": [
    "def content(row):\n",
    "\n",
    "    cont = row.title + row.genres + row.director\n",
    "    # Vamos a reemplzar los caracteres que no sean leras por espacios\n",
    "    cont=re.sub(\"[^a-zA-Z]\",\" \",str(cont))\n",
    "    # Pasamos todo a minúsculas\n",
    "    cont=cont.lower()\n",
    "    # Tokenizamos para separar las palabras del cont\n",
    "    cont=nltk.word_tokenize(cont)\n",
    "    # Eliminamos las palabras de menos de 3 letras\n",
    "    cont = [palabra for palabra in cont if len(palabra)>3]\n",
    "    # Sacamos las Stopwords\n",
    "    cont = [palabra for palabra in cont if not palabra in stopwords]\n",
    "\n",
    "\n",
    "\n",
    "\n",
    "    \n",
    "    ## Hasta acá Normalizamos, ahora a stemmizar\n",
    "    \n",
    "    # Aplicamos la funcion para buscar la raiz de las palabras\n",
    "    cont=[stemmer.stem(palabra) for palabra in cont]\n",
    "    # Por ultimo volvemos a unir el cont\n",
    "    cont=\" \".join(cont)\n",
    "\n",
    "    return cont\n",
    "\n",
    "df['content'] = df.apply(content, axis=1)"
   ]
  },
  {
   "cell_type": "code",
   "execution_count": 19,
   "metadata": {},
   "outputs": [
    {
     "data": {
      "text/plain": [
       "(45429, 17912)"
      ]
     },
     "execution_count": 19,
     "metadata": {},
     "output_type": "execute_result"
    }
   ],
   "source": [
    "#create the TF-IDF model\n",
    "MAX_DF     = 0.95\n",
    "MIN_DF     = 1\n",
    "tfidf = TfidfVectorizer(#max_df=MAX_DF, min_df=MIN_DF, \\\n",
    "                        #max_features=10000,\\\n",
    "                        #ngram_range=(1,2),\n",
    "                        #token_pattern = r\"\\b\\w{5,}\\b\"\n",
    "                        )\n",
    "\n",
    "df['content'].dropna(inplace=True)\n",
    "#tfidf_matrix = tfidf.fit_transform(content)\n",
    "tfidf_matrix = tfidf.fit_transform(df.content.apply(lambda x: np.str_(x)))\n",
    "#vecs=vec.fit_transform(data[\"imp\"].apply(lambda x: np.str_(x)))\n",
    "tfidf_matrix.shape\n"
   ]
  },
  {
   "cell_type": "code",
   "execution_count": 15,
   "metadata": {},
   "outputs": [
    {
     "ename": "MemoryError",
     "evalue": "Unable to allocate 13.8 GiB for an array with shape (1854119085,) and data type float64",
     "output_type": "error",
     "traceback": [
      "\u001b[0;31m---------------------------------------------------------------------------\u001b[0m",
      "\u001b[0;31mMemoryError\u001b[0m                               Traceback (most recent call last)",
      "Cell \u001b[0;32mIn[15], line 1\u001b[0m\n\u001b[0;32m----> 1\u001b[0m cosine_similarities\u001b[39m=\u001b[39mcosine_similarity(tfidf_matrix) \n",
      "File \u001b[0;32m~/.local/lib/python3.8/site-packages/sklearn/utils/_param_validation.py:211\u001b[0m, in \u001b[0;36mvalidate_params.<locals>.decorator.<locals>.wrapper\u001b[0;34m(*args, **kwargs)\u001b[0m\n\u001b[1;32m    205\u001b[0m \u001b[39mtry\u001b[39;00m:\n\u001b[1;32m    206\u001b[0m     \u001b[39mwith\u001b[39;00m config_context(\n\u001b[1;32m    207\u001b[0m         skip_parameter_validation\u001b[39m=\u001b[39m(\n\u001b[1;32m    208\u001b[0m             prefer_skip_nested_validation \u001b[39mor\u001b[39;00m global_skip_validation\n\u001b[1;32m    209\u001b[0m         )\n\u001b[1;32m    210\u001b[0m     ):\n\u001b[0;32m--> 211\u001b[0m         \u001b[39mreturn\u001b[39;00m func(\u001b[39m*\u001b[39;49margs, \u001b[39m*\u001b[39;49m\u001b[39m*\u001b[39;49mkwargs)\n\u001b[1;32m    212\u001b[0m \u001b[39mexcept\u001b[39;00m InvalidParameterError \u001b[39mas\u001b[39;00m e:\n\u001b[1;32m    213\u001b[0m     \u001b[39m# When the function is just a wrapper around an estimator, we allow\u001b[39;00m\n\u001b[1;32m    214\u001b[0m     \u001b[39m# the function to delegate validation to the estimator, but we replace\u001b[39;00m\n\u001b[1;32m    215\u001b[0m     \u001b[39m# the name of the estimator by the name of the function in the error\u001b[39;00m\n\u001b[1;32m    216\u001b[0m     \u001b[39m# message to avoid confusion.\u001b[39;00m\n\u001b[1;32m    217\u001b[0m     msg \u001b[39m=\u001b[39m re\u001b[39m.\u001b[39msub(\n\u001b[1;32m    218\u001b[0m         \u001b[39mr\u001b[39m\u001b[39m\"\u001b[39m\u001b[39mparameter of \u001b[39m\u001b[39m\\\u001b[39m\u001b[39mw+ must be\u001b[39m\u001b[39m\"\u001b[39m,\n\u001b[1;32m    219\u001b[0m         \u001b[39mf\u001b[39m\u001b[39m\"\u001b[39m\u001b[39mparameter of \u001b[39m\u001b[39m{\u001b[39;00mfunc\u001b[39m.\u001b[39m\u001b[39m__qualname__\u001b[39m\u001b[39m}\u001b[39;00m\u001b[39m must be\u001b[39m\u001b[39m\"\u001b[39m,\n\u001b[1;32m    220\u001b[0m         \u001b[39mstr\u001b[39m(e),\n\u001b[1;32m    221\u001b[0m     )\n",
      "File \u001b[0;32m~/.local/lib/python3.8/site-packages/sklearn/metrics/pairwise.py:1585\u001b[0m, in \u001b[0;36mcosine_similarity\u001b[0;34m(X, Y, dense_output)\u001b[0m\n\u001b[1;32m   1582\u001b[0m \u001b[39melse\u001b[39;00m:\n\u001b[1;32m   1583\u001b[0m     Y_normalized \u001b[39m=\u001b[39m normalize(Y, copy\u001b[39m=\u001b[39m\u001b[39mTrue\u001b[39;00m)\n\u001b[0;32m-> 1585\u001b[0m K \u001b[39m=\u001b[39m safe_sparse_dot(X_normalized, Y_normalized\u001b[39m.\u001b[39;49mT, dense_output\u001b[39m=\u001b[39;49mdense_output)\n\u001b[1;32m   1587\u001b[0m \u001b[39mreturn\u001b[39;00m K\n",
      "File \u001b[0;32m~/.local/lib/python3.8/site-packages/sklearn/utils/extmath.py:193\u001b[0m, in \u001b[0;36msafe_sparse_dot\u001b[0;34m(a, b, dense_output)\u001b[0m\n\u001b[1;32m    191\u001b[0m         ret \u001b[39m=\u001b[39m np\u001b[39m.\u001b[39mdot(a, b)\n\u001b[1;32m    192\u001b[0m \u001b[39melse\u001b[39;00m:\n\u001b[0;32m--> 193\u001b[0m     ret \u001b[39m=\u001b[39m a \u001b[39m@\u001b[39;49m b\n\u001b[1;32m    195\u001b[0m \u001b[39mif\u001b[39;00m (\n\u001b[1;32m    196\u001b[0m     sparse\u001b[39m.\u001b[39missparse(a)\n\u001b[1;32m    197\u001b[0m     \u001b[39mand\u001b[39;00m sparse\u001b[39m.\u001b[39missparse(b)\n\u001b[1;32m    198\u001b[0m     \u001b[39mand\u001b[39;00m dense_output\n\u001b[1;32m    199\u001b[0m     \u001b[39mand\u001b[39;00m \u001b[39mhasattr\u001b[39m(ret, \u001b[39m\"\u001b[39m\u001b[39mtoarray\u001b[39m\u001b[39m\"\u001b[39m)\n\u001b[1;32m    200\u001b[0m ):\n\u001b[1;32m    201\u001b[0m     \u001b[39mreturn\u001b[39;00m ret\u001b[39m.\u001b[39mtoarray()\n",
      "File \u001b[0;32m~/.local/lib/python3.8/site-packages/scipy/sparse/_base.py:630\u001b[0m, in \u001b[0;36mspmatrix.__matmul__\u001b[0;34m(self, other)\u001b[0m\n\u001b[1;32m    627\u001b[0m \u001b[39mif\u001b[39;00m isscalarlike(other):\n\u001b[1;32m    628\u001b[0m     \u001b[39mraise\u001b[39;00m \u001b[39mValueError\u001b[39;00m(\u001b[39m\"\u001b[39m\u001b[39mScalar operands are not allowed, \u001b[39m\u001b[39m\"\u001b[39m\n\u001b[1;32m    629\u001b[0m                      \u001b[39m\"\u001b[39m\u001b[39muse \u001b[39m\u001b[39m'\u001b[39m\u001b[39m*\u001b[39m\u001b[39m'\u001b[39m\u001b[39m instead\u001b[39m\u001b[39m\"\u001b[39m)\n\u001b[0;32m--> 630\u001b[0m \u001b[39mreturn\u001b[39;00m \u001b[39mself\u001b[39;49m\u001b[39m.\u001b[39;49m_mul_dispatch(other)\n",
      "File \u001b[0;32m~/.local/lib/python3.8/site-packages/scipy/sparse/_base.py:541\u001b[0m, in \u001b[0;36mspmatrix._mul_dispatch\u001b[0;34m(self, other)\u001b[0m\n\u001b[1;32m    539\u001b[0m     \u001b[39mif\u001b[39;00m \u001b[39mself\u001b[39m\u001b[39m.\u001b[39mshape[\u001b[39m1\u001b[39m] \u001b[39m!=\u001b[39m other\u001b[39m.\u001b[39mshape[\u001b[39m0\u001b[39m]:\n\u001b[1;32m    540\u001b[0m         \u001b[39mraise\u001b[39;00m \u001b[39mValueError\u001b[39;00m(\u001b[39m'\u001b[39m\u001b[39mdimension mismatch\u001b[39m\u001b[39m'\u001b[39m)\n\u001b[0;32m--> 541\u001b[0m     \u001b[39mreturn\u001b[39;00m \u001b[39mself\u001b[39;49m\u001b[39m.\u001b[39;49m_mul_sparse_matrix(other)\n\u001b[1;32m    543\u001b[0m \u001b[39m# If it's a list or whatever, treat it like a matrix\u001b[39;00m\n\u001b[1;32m    544\u001b[0m other_a \u001b[39m=\u001b[39m np\u001b[39m.\u001b[39masanyarray(other)\n",
      "File \u001b[0;32m~/.local/lib/python3.8/site-packages/scipy/sparse/_compressed.py:530\u001b[0m, in \u001b[0;36m_cs_matrix._mul_sparse_matrix\u001b[0;34m(self, other)\u001b[0m\n\u001b[1;32m    528\u001b[0m indptr \u001b[39m=\u001b[39m np\u001b[39m.\u001b[39mempty(major_axis \u001b[39m+\u001b[39m \u001b[39m1\u001b[39m, dtype\u001b[39m=\u001b[39midx_dtype)\n\u001b[1;32m    529\u001b[0m indices \u001b[39m=\u001b[39m np\u001b[39m.\u001b[39mempty(nnz, dtype\u001b[39m=\u001b[39midx_dtype)\n\u001b[0;32m--> 530\u001b[0m data \u001b[39m=\u001b[39m np\u001b[39m.\u001b[39;49mempty(nnz, dtype\u001b[39m=\u001b[39;49mupcast(\u001b[39mself\u001b[39;49m\u001b[39m.\u001b[39;49mdtype, other\u001b[39m.\u001b[39;49mdtype))\n\u001b[1;32m    532\u001b[0m fn \u001b[39m=\u001b[39m \u001b[39mgetattr\u001b[39m(_sparsetools, \u001b[39mself\u001b[39m\u001b[39m.\u001b[39mformat \u001b[39m+\u001b[39m \u001b[39m'\u001b[39m\u001b[39m_matmat\u001b[39m\u001b[39m'\u001b[39m)\n\u001b[1;32m    533\u001b[0m fn(M, N, np\u001b[39m.\u001b[39masarray(\u001b[39mself\u001b[39m\u001b[39m.\u001b[39mindptr, dtype\u001b[39m=\u001b[39midx_dtype),\n\u001b[1;32m    534\u001b[0m    np\u001b[39m.\u001b[39masarray(\u001b[39mself\u001b[39m\u001b[39m.\u001b[39mindices, dtype\u001b[39m=\u001b[39midx_dtype),\n\u001b[1;32m    535\u001b[0m    \u001b[39mself\u001b[39m\u001b[39m.\u001b[39mdata,\n\u001b[0;32m   (...)\u001b[0m\n\u001b[1;32m    538\u001b[0m    other\u001b[39m.\u001b[39mdata,\n\u001b[1;32m    539\u001b[0m    indptr, indices, data)\n",
      "\u001b[0;31mMemoryError\u001b[0m: Unable to allocate 13.8 GiB for an array with shape (1854119085,) and data type float64"
     ]
    }
   ],
   "source": [
    "cosine_similarities=cosine_similarity(tfidf_matrix) "
   ]
  },
  {
   "cell_type": "code",
   "execution_count": 7,
   "metadata": {},
   "outputs": [
    {
     "data": {
      "text/plain": [
       "(16483, 16483)"
      ]
     },
     "execution_count": 7,
     "metadata": {},
     "output_type": "execute_result"
    }
   ],
   "source": [
    "cosine_similarities.shape"
   ]
  },
  {
   "cell_type": "code",
   "execution_count": 8,
   "metadata": {},
   "outputs": [
    {
     "ename": "NameError",
     "evalue": "name 'data' is not defined",
     "output_type": "error",
     "traceback": [
      "\u001b[0;31m---------------------------------------------------------------------------\u001b[0m",
      "\u001b[0;31mNameError\u001b[0m                                 Traceback (most recent call last)",
      "Cell \u001b[0;32mIn[8], line 1\u001b[0m\n\u001b[0;32m----> 1\u001b[0m movie_id\u001b[39m=\u001b[39mdata[data\u001b[39m.\u001b[39mName\u001b[39m==\u001b[39mtitle][\u001b[39m\"\u001b[39m\u001b[39mids\u001b[39m\u001b[39m\"\u001b[39m]\u001b[39m.\u001b[39mvalues[\u001b[39m0\u001b[39m]\n\u001b[1;32m      2\u001b[0m scores\u001b[39m=\u001b[39m\u001b[39mlist\u001b[39m(\u001b[39menumerate\u001b[39m(sim[movie_id]))\n\u001b[1;32m      3\u001b[0m sorted_scores\u001b[39m=\u001b[39m\u001b[39msorted\u001b[39m(scores,key\u001b[39m=\u001b[39m\u001b[39mlambda\u001b[39;00m x:x[\u001b[39m1\u001b[39m],reverse\u001b[39m=\u001b[39m\u001b[39mTrue\u001b[39;00m)\n",
      "\u001b[0;31mNameError\u001b[0m: name 'data' is not defined"
     ]
    }
   ],
   "source": [
    "movie_id=data[data.Name==title][\"ids\"].values[0]\n",
    "scores=list(enumerate(sim[movie_id]))\n",
    "sorted_scores=sorted(scores,key=lambda x:x[1],reverse=True)\n",
    "sorted_scores=sorted_scores[1:]\n",
    "movies=[data[movies[0]==data[\"ids\"]][\"Name\"].values[0] for movies in sorted_scores]"
   ]
  },
  {
   "cell_type": "code",
   "execution_count": 10,
   "metadata": {},
   "outputs": [
    {
     "name": "stdout",
     "output_type": "stream",
     "text": [
      "[(0, 1.0), (1951, 0.5039454318478097), (5342, 0.29504903902119617), (14315, 0.23343223363567064), (3275, 0.22610385798286725)]\n",
      "Toy Story 1.0\n",
      "Hot Lead & Cold Feet 0.5039454318478097\n",
      "The Crocodile Hunter: Collision Course 0.29504903902119617\n",
      "The End of St. Petersburg 0.23343223363567064\n",
      "JFK 0.22610385798286725\n",
      "Identity 0.20230016610539722\n"
     ]
    }
   ],
   "source": [
    "df = pd.read_parquet('data/movies.pq')\n",
    "cosine_similarity_scores = list(enumerate(cosine_similarities[0]))\n",
    "cosine_similarity_scores = sorted(cosine_similarity_scores, key=lambda x: x[1], reverse=True)\n",
    "print (cosine_similarity_scores[:5])\n",
    "\n",
    "for i in cosine_similarity_scores[:6]:\n",
    "    print (df.loc[i[0]].title, i[1])\n"
   ]
  }
 ],
 "metadata": {
  "kernelspec": {
   "display_name": "Python 3",
   "language": "python",
   "name": "python3"
  },
  "language_info": {
   "codemirror_mode": {
    "name": "ipython",
    "version": 3
   },
   "file_extension": ".py",
   "mimetype": "text/x-python",
   "name": "python",
   "nbconvert_exporter": "python",
   "pygments_lexer": "ipython3",
   "version": "3.8.10"
  },
  "orig_nbformat": 4
 },
 "nbformat": 4,
 "nbformat_minor": 2
}
