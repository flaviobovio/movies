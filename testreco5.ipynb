{
 "cells": [
  {
   "cell_type": "code",
   "execution_count": 19,
   "metadata": {},
   "outputs": [],
   "source": [
    "import pandas as pd\n",
    "import numpy as np\n",
    "import re\n",
    "import ast\n",
    "import string\n",
    "from datetime import datetime\n",
    "from sklearn.feature_extraction.text import TfidfVectorizer\n",
    "from sklearn.feature_extraction.text import CountVectorizer\n",
    "from sklearn.metrics.pairwise import cosine_similarity\n",
    "from sklearn.metrics.pairwise import linear_kernel\n"
   ]
  },
  {
   "cell_type": "code",
   "execution_count": 20,
   "metadata": {},
   "outputs": [
    {
     "name": "stdout",
     "output_type": "stream",
     "text": [
      "<class 'pandas.core.frame.DataFrame'>\n",
      "Int64Index: 45429 entries, 0 to 45428\n",
      "Data columns (total 21 columns):\n",
      " #   Column                 Non-Null Count  Dtype  \n",
      "---  ------                 --------------  -----  \n",
      " 0   belongs_to_collection  4495 non-null   object \n",
      " 1   budget                 45429 non-null  float64\n",
      " 2   genres                 45429 non-null  object \n",
      " 3   id                     45429 non-null  int64  \n",
      " 4   original_language      45418 non-null  object \n",
      " 5   overview               45429 non-null  object \n",
      " 6   popularity             45429 non-null  object \n",
      " 7   production_companies   45429 non-null  object \n",
      " 8   production_countries   45429 non-null  object \n",
      " 9   release_date           45429 non-null  object \n",
      " 10  revenue                45429 non-null  float64\n",
      " 11  runtime                45183 non-null  float64\n",
      " 12  spoken_languages       45429 non-null  object \n",
      " 13  status                 45349 non-null  object \n",
      " 14  tagline                20416 non-null  object \n",
      " 15  title                  45429 non-null  object \n",
      " 16  vote_average           45429 non-null  float64\n",
      " 17  vote_count             45429 non-null  float64\n",
      " 18  release_year           45429 non-null  int64  \n",
      " 19  return                 45429 non-null  float64\n",
      " 20  director               45429 non-null  object \n",
      "dtypes: float64(6), int64(2), object(13)\n",
      "memory usage: 7.6+ MB\n"
     ]
    }
   ],
   "source": [
    "df = pd.read_parquet('data/movies.pq')\n",
    "df.sample(5)\n",
    "df.info()"
   ]
  },
  {
   "cell_type": "code",
   "execution_count": 21,
   "metadata": {},
   "outputs": [
    {
     "name": "stdout",
     "output_type": "stream",
     "text": [
      "(18410, 21)\n"
     ]
    },
    {
     "data": {
      "text/plain": [
       "(17724, 21)"
      ]
     },
     "execution_count": 21,
     "metadata": {},
     "output_type": "execute_result"
    }
   ],
   "source": [
    "\n",
    "# df['production_countries'].info()\n",
    "#df['United States of America' in df['production_countries'].cont]\n",
    "#'United States of America' in df['production_countries'][0]\n",
    "\n",
    "df.title = df.title.astype(str)\n",
    "df = df [df['production_countries'].str.contains('United States of America')]\n",
    "df = df [df['release_year']>1950]\n",
    "print(df.shape)\n",
    "df  = df.drop_duplicates(subset='title', keep='last')\n",
    "df.shape\n",
    "\n"
   ]
  },
  {
   "cell_type": "code",
   "execution_count": 22,
   "metadata": {},
   "outputs": [],
   "source": [
    "def clean_text(text):\n",
    "    '''Make text lowercase,remove punctuation\n",
    "    .'''\n",
    "    text = str(text).lower().replace('collection','')\n",
    "    text = re.sub('[%s]' % re.escape(string.punctuation), '', text)\n",
    "    text = re.sub('\\n', '', text)\n",
    "    return text\n",
    "\n",
    "df['belongs_to_collection'].fillna('', inplace=True)\n",
    "df['content'] = df['title'] + \" \" + df['overview'] + \" \" + df['genres'] + ' ' +\\\n",
    "                df['belongs_to_collection'] + ' ' + df['director']\n",
    "\n",
    "\n",
    "df['content'] = df['content'].apply(lambda x:clean_text(x))\n"
   ]
  },
  {
   "cell_type": "code",
   "execution_count": 23,
   "metadata": {},
   "outputs": [
    {
     "data": {
      "text/plain": [
       "0        toy story led by woody andys toys live happily...\n",
       "1        jumanji when siblings judy and peter discover ...\n",
       "2        grumpier old men a family wedding reignites th...\n",
       "3        waiting to exhale cheated on mistreated and st...\n",
       "4        father of the bride part ii just when george b...\n",
       "                               ...                        \n",
       "45418    the morning after the morning after is a featu...\n",
       "45422    the burkittsville 7 a film archivist revisits ...\n",
       "45423    caged heat 3000 its the year 3000 ad the world...\n",
       "45424    robin hood yet another version of the classic ...\n",
       "45426    betrayal when one of her hits goes wrong a pro...\n",
       "Name: content, Length: 17724, dtype: object"
      ]
     },
     "execution_count": 23,
     "metadata": {},
     "output_type": "execute_result"
    }
   ],
   "source": [
    "df['content']"
   ]
  },
  {
   "cell_type": "code",
   "execution_count": 24,
   "metadata": {},
   "outputs": [
    {
     "data": {
      "text/html": [
       "<div>\n",
       "<style scoped>\n",
       "    .dataframe tbody tr th:only-of-type {\n",
       "        vertical-align: middle;\n",
       "    }\n",
       "\n",
       "    .dataframe tbody tr th {\n",
       "        vertical-align: top;\n",
       "    }\n",
       "\n",
       "    .dataframe thead th {\n",
       "        text-align: right;\n",
       "    }\n",
       "</style>\n",
       "<table border=\"1\" class=\"dataframe\">\n",
       "  <thead>\n",
       "    <tr style=\"text-align: right;\">\n",
       "      <th></th>\n",
       "      <th>belongs_to_collection</th>\n",
       "      <th>budget</th>\n",
       "      <th>genres</th>\n",
       "      <th>id</th>\n",
       "      <th>original_language</th>\n",
       "      <th>overview</th>\n",
       "      <th>popularity</th>\n",
       "      <th>production_companies</th>\n",
       "      <th>production_countries</th>\n",
       "      <th>release_date</th>\n",
       "      <th>...</th>\n",
       "      <th>status</th>\n",
       "      <th>tagline</th>\n",
       "      <th>title</th>\n",
       "      <th>vote_average</th>\n",
       "      <th>vote_count</th>\n",
       "      <th>release_year</th>\n",
       "      <th>return</th>\n",
       "      <th>director</th>\n",
       "      <th>content</th>\n",
       "      <th>ids</th>\n",
       "    </tr>\n",
       "  </thead>\n",
       "  <tbody>\n",
       "    <tr>\n",
       "      <th>45423</th>\n",
       "      <td></td>\n",
       "      <td>0.0</td>\n",
       "      <td>['Science Fiction']</td>\n",
       "      <td>222848</td>\n",
       "      <td>en</td>\n",
       "      <td>It's the year 3000 AD. The world's most danger...</td>\n",
       "      <td>0.661558</td>\n",
       "      <td>[Concorde-New Horizons]</td>\n",
       "      <td>['United States of America']</td>\n",
       "      <td>1995-01-01</td>\n",
       "      <td>...</td>\n",
       "      <td>Released</td>\n",
       "      <td>None</td>\n",
       "      <td>Caged Heat 3000</td>\n",
       "      <td>3.5</td>\n",
       "      <td>1.0</td>\n",
       "      <td>1995</td>\n",
       "      <td>0.0</td>\n",
       "      <td>Aaron Osborne</td>\n",
       "      <td>caged heat 3000 its the year 3000 ad the world...</td>\n",
       "      <td>17721</td>\n",
       "    </tr>\n",
       "    <tr>\n",
       "      <th>45424</th>\n",
       "      <td></td>\n",
       "      <td>0.0</td>\n",
       "      <td>['Drama', 'Action', 'Romance']</td>\n",
       "      <td>30840</td>\n",
       "      <td>en</td>\n",
       "      <td>Yet another version of the classic epic, with ...</td>\n",
       "      <td>5.683753</td>\n",
       "      <td>[Westdeutscher Rundfunk (WDR), Working Title F...</td>\n",
       "      <td>['Canada', 'Germany', 'United Kingdom', 'Unite...</td>\n",
       "      <td>1991-05-13</td>\n",
       "      <td>...</td>\n",
       "      <td>Released</td>\n",
       "      <td>None</td>\n",
       "      <td>Robin Hood</td>\n",
       "      <td>5.7</td>\n",
       "      <td>26.0</td>\n",
       "      <td>1991</td>\n",
       "      <td>0.0</td>\n",
       "      <td>John Irvin</td>\n",
       "      <td>robin hood yet another version of the classic ...</td>\n",
       "      <td>17722</td>\n",
       "    </tr>\n",
       "    <tr>\n",
       "      <th>45426</th>\n",
       "      <td></td>\n",
       "      <td>0.0</td>\n",
       "      <td>['Action', 'Drama', 'Thriller']</td>\n",
       "      <td>67758</td>\n",
       "      <td>en</td>\n",
       "      <td>When one of her hits goes wrong, a professiona...</td>\n",
       "      <td>0.903007</td>\n",
       "      <td>[American World Pictures]</td>\n",
       "      <td>['United States of America']</td>\n",
       "      <td>2003-08-01</td>\n",
       "      <td>...</td>\n",
       "      <td>Released</td>\n",
       "      <td>A deadly game of wits.</td>\n",
       "      <td>Betrayal</td>\n",
       "      <td>3.8</td>\n",
       "      <td>6.0</td>\n",
       "      <td>2003</td>\n",
       "      <td>0.0</td>\n",
       "      <td>Mark L. Lester</td>\n",
       "      <td>betrayal when one of her hits goes wrong a pro...</td>\n",
       "      <td>17723</td>\n",
       "    </tr>\n",
       "  </tbody>\n",
       "</table>\n",
       "<p>3 rows × 23 columns</p>\n",
       "</div>"
      ],
      "text/plain": [
       "      belongs_to_collection  budget                           genres      id  \\\n",
       "45423                           0.0              ['Science Fiction']  222848   \n",
       "45424                           0.0   ['Drama', 'Action', 'Romance']   30840   \n",
       "45426                           0.0  ['Action', 'Drama', 'Thriller']   67758   \n",
       "\n",
       "      original_language                                           overview  \\\n",
       "45423                en  It's the year 3000 AD. The world's most danger...   \n",
       "45424                en  Yet another version of the classic epic, with ...   \n",
       "45426                en  When one of her hits goes wrong, a professiona...   \n",
       "\n",
       "      popularity                               production_companies  \\\n",
       "45423   0.661558                            [Concorde-New Horizons]   \n",
       "45424   5.683753  [Westdeutscher Rundfunk (WDR), Working Title F...   \n",
       "45426   0.903007                          [American World Pictures]   \n",
       "\n",
       "                                    production_countries release_date  ...  \\\n",
       "45423                       ['United States of America']   1995-01-01  ...   \n",
       "45424  ['Canada', 'Germany', 'United Kingdom', 'Unite...   1991-05-13  ...   \n",
       "45426                       ['United States of America']   2003-08-01  ...   \n",
       "\n",
       "         status                 tagline            title vote_average  \\\n",
       "45423  Released                    None  Caged Heat 3000          3.5   \n",
       "45424  Released                    None       Robin Hood          5.7   \n",
       "45426  Released  A deadly game of wits.         Betrayal          3.8   \n",
       "\n",
       "      vote_count release_year  return        director  \\\n",
       "45423        1.0         1995     0.0   Aaron Osborne   \n",
       "45424       26.0         1991     0.0      John Irvin   \n",
       "45426        6.0         2003     0.0  Mark L. Lester   \n",
       "\n",
       "                                                 content    ids  \n",
       "45423  caged heat 3000 its the year 3000 ad the world...  17721  \n",
       "45424  robin hood yet another version of the classic ...  17722  \n",
       "45426  betrayal when one of her hits goes wrong a pro...  17723  \n",
       "\n",
       "[3 rows x 23 columns]"
      ]
     },
     "execution_count": 24,
     "metadata": {},
     "output_type": "execute_result"
    }
   ],
   "source": [
    "df[\"ids\"]=[i for i in range(0,df.shape[0])]\n",
    "df.tail(3)"
   ]
  },
  {
   "cell_type": "code",
   "execution_count": 25,
   "metadata": {},
   "outputs": [],
   "source": [
    "#create the TF-IDF model\n",
    "# MAX_DF     = 0.95\n",
    "# MIN_DF     = 1#2\n",
    "tfidf = TfidfVectorizer(token_pattern = r\"\\b\\w{3,}\\b\", stop_words='english',  ngram_range=(1,2))\n",
    "\n",
    "content = df.content#.dropna()\n",
    "\n",
    "tfidf_matrix = tfidf.fit_transform(content)\n",
    "\n",
    "\n",
    "cosine_similarities = None\n",
    "cosine_similarities = linear_kernel(tfidf_matrix, tfidf_matrix)\n"
   ]
  },
  {
   "cell_type": "code",
   "execution_count": 26,
   "metadata": {},
   "outputs": [
    {
     "data": {
      "text/plain": [
       "(17724, 23)"
      ]
     },
     "execution_count": 26,
     "metadata": {},
     "output_type": "execute_result"
    }
   ],
   "source": [
    "df.shape\n"
   ]
  },
  {
   "cell_type": "code",
   "execution_count": 27,
   "metadata": {},
   "outputs": [],
   "source": [
    "# # Count Vectorizer\n",
    "\n",
    "# content = q.dropna()\n",
    "# count_vectorizer = CountVectorizer(token_pattern = r\"\\b\\w{3,}\\b\", stop_words='english',  ngram_range=(1,2))\n",
    "# count_matrix = count_vectorizer.fit_transform(content)\n",
    "# cosine_similarities = None\n",
    "# cosine_similarities = linear_kernel(count_matrix, count_matrix)\n",
    "\n"
   ]
  },
  {
   "cell_type": "code",
   "execution_count": 28,
   "metadata": {},
   "outputs": [],
   "source": [
    "all_recomendations  = []\n",
    "\n",
    "for i in df.ids:\n",
    "    cosine_similarity_scores = list(enumerate(cosine_similarities[i]))\n",
    "    cosine_similarity_scores = sorted(cosine_similarity_scores, key=lambda x: x[1], reverse=True)\n",
    "    recomendations = []\n",
    "    for s in cosine_similarity_scores[1:6]:\n",
    "        title = df[df.ids==s[0]]['title'].to_string(index=False)\n",
    "        recomendations.append(title)\n",
    "\n",
    "    all_recomendations.append(recomendations)\n",
    "     \n",
    "\n",
    "    \n",
    "\n",
    "\n",
    "\n"
   ]
  },
  {
   "cell_type": "code",
   "execution_count": 29,
   "metadata": {},
   "outputs": [],
   "source": [
    "df['recomendations'] = all_recomendations"
   ]
  },
  {
   "cell_type": "code",
   "execution_count": 30,
   "metadata": {},
   "outputs": [],
   "source": [
    "df.to_parquet('data/movies_acotado.pq')"
   ]
  },
  {
   "cell_type": "code",
   "execution_count": 31,
   "metadata": {},
   "outputs": [
    {
     "data": {
      "text/plain": [
       "['Toy Story 2',\n",
       " 'Toy Story 3',\n",
       " 'Toy Story of Terror!',\n",
       " 'Toy Story That Time Forgot',\n",
       " 'Small Fry']"
      ]
     },
     "execution_count": 31,
     "metadata": {},
     "output_type": "execute_result"
    }
   ],
   "source": [
    "df.recomendations[0]"
   ]
  },
  {
   "cell_type": "code",
   "execution_count": 32,
   "metadata": {},
   "outputs": [
    {
     "name": "stdout",
     "output_type": "stream",
     "text": [
      "Toy Story 2\n",
      "Toy Story 3\n",
      "Toy Story of Terror!\n",
      "Toy Story That Time Forgot\n",
      "Small Fry\n",
      "['Toy Story 2', 'Toy Story 3', 'Toy Story of Terror!', 'Toy Story That Time Forgot', 'Small Fry']\n"
     ]
    }
   ],
   "source": [
    "i = 0\n",
    "cosine_similarity_scores = list(enumerate(cosine_similarities[i]))\n",
    "cosine_similarity_scores = sorted(cosine_similarity_scores, key=lambda x: x[1], reverse=True)\n",
    "recomendations = []\n",
    "for s in cosine_similarity_scores[1:6]:\n",
    "    recomendations.append(df[df.ids==s[0]]['title'].to_string(index=False))\n",
    "    print (df[df.ids==s[0]]['title'].to_string(index=False))\n",
    "\n",
    "print (recomendations)\n",
    "\n"
   ]
  },
  {
   "cell_type": "code",
   "execution_count": 33,
   "metadata": {},
   "outputs": [
    {
     "data": {
      "text/plain": [
       "'Toy Story'"
      ]
     },
     "execution_count": 33,
     "metadata": {},
     "output_type": "execute_result"
    }
   ],
   "source": [
    "\n",
    "cosine_similarity_scores = list(enumerate(cosine_similarities[i]))\n",
    "cosine_similarity_scores = sorted(cosine_similarity_scores, key=lambda x: x[1], reverse=True)\n",
    "cosine_similarity_scores \n",
    "df.loc[df.ids==0]['title'].to_string(index=False)\n"
   ]
  },
  {
   "cell_type": "code",
   "execution_count": 40,
   "metadata": {},
   "outputs": [
    {
     "data": {
      "text/plain": [
       "['Toy Story 2',\n",
       " 'Toy Story 3',\n",
       " 'Toy Story of Terror!',\n",
       " 'Toy Story That Time Forgot',\n",
       " 'Small Fry']"
      ]
     },
     "execution_count": 40,
     "metadata": {},
     "output_type": "execute_result"
    }
   ],
   "source": [
    "#del df\n",
    "df = pd.read_parquet('data/movies_acotado.pq')\n",
    "# df.sample(3)\n",
    "# ast.literal_eval(df.recomendations[0])\n",
    "peli = 'Toy Story'\n",
    "peli = df[df.title == peli]\n",
    "list(peli.iloc[0].recomendations)\n",
    "# a  = print(peli.recomendations.to_string(index=False))\n",
    "# print (a)\n",
    "\n",
    "# ast.literal_eval(peli.recomendations.to_string(index=False))\n",
    "\n",
    "#recomendations = list(peli.recomendations)"
   ]
  }
 ],
 "metadata": {
  "kernelspec": {
   "display_name": "Python 3",
   "language": "python",
   "name": "python3"
  },
  "language_info": {
   "codemirror_mode": {
    "name": "ipython",
    "version": 3
   },
   "file_extension": ".py",
   "mimetype": "text/x-python",
   "name": "python",
   "nbconvert_exporter": "python",
   "pygments_lexer": "ipython3",
   "version": "3.10.12"
  },
  "orig_nbformat": 4
 },
 "nbformat": 4,
 "nbformat_minor": 2
}
