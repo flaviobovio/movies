{
 "cells": [
  {
   "cell_type": "code",
   "execution_count": 68,
   "metadata": {},
   "outputs": [],
   "source": [
    "import pandas as pd\n",
    "import seaborn as sns\n",
    "from nltk.corpus import stopwords\n",
    "from collections import  Counter\n",
    "import re\n",
    "import string"
   ]
  },
  {
   "cell_type": "code",
   "execution_count": 69,
   "metadata": {},
   "outputs": [],
   "source": [
    "# Load movies data on DF\n",
    "df = pd.read_parquet('data/movies_clean.pq')"
   ]
  },
  {
   "cell_type": "code",
   "execution_count": 70,
   "metadata": {},
   "outputs": [
    {
     "data": {
      "text/plain": [
       "(45429, 19)"
      ]
     },
     "execution_count": 70,
     "metadata": {},
     "output_type": "execute_result"
    }
   ],
   "source": [
    "df.shape\n",
    "\n",
    "# Maybe reduction or partition of the dataset may be required"
   ]
  },
  {
   "cell_type": "code",
   "execution_count": 80,
   "metadata": {},
   "outputs": [
    {
     "data": {
      "text/html": [
       "<div>\n",
       "<style scoped>\n",
       "    .dataframe tbody tr th:only-of-type {\n",
       "        vertical-align: middle;\n",
       "    }\n",
       "\n",
       "    .dataframe tbody tr th {\n",
       "        vertical-align: top;\n",
       "    }\n",
       "\n",
       "    .dataframe thead th {\n",
       "        text-align: right;\n",
       "    }\n",
       "</style>\n",
       "<table border=\"1\" class=\"dataframe\">\n",
       "  <thead>\n",
       "    <tr style=\"text-align: right;\">\n",
       "      <th></th>\n",
       "      <th>belongs_to_collection</th>\n",
       "      <th>budget</th>\n",
       "      <th>genres</th>\n",
       "      <th>id</th>\n",
       "      <th>original_language</th>\n",
       "      <th>overview</th>\n",
       "      <th>popularity</th>\n",
       "      <th>production_companies</th>\n",
       "      <th>production_countries</th>\n",
       "      <th>release_date</th>\n",
       "      <th>revenue</th>\n",
       "      <th>runtime</th>\n",
       "      <th>status</th>\n",
       "      <th>title</th>\n",
       "      <th>vote_average</th>\n",
       "      <th>vote_count</th>\n",
       "      <th>release_year</th>\n",
       "      <th>return</th>\n",
       "      <th>director</th>\n",
       "    </tr>\n",
       "  </thead>\n",
       "  <tbody>\n",
       "    <tr>\n",
       "      <th>79</th>\n",
       "      <td>None</td>\n",
       "      <td>0.0</td>\n",
       "      <td>['Family', 'Drama']</td>\n",
       "      <td>46785</td>\n",
       "      <td>fa</td>\n",
       "      <td>Several people try to take advantage of a litt...</td>\n",
       "      <td>1.196256</td>\n",
       "      <td>['I.R.I.B. Channel 2', 'Ferdos Films']</td>\n",
       "      <td>['Iran']</td>\n",
       "      <td>1995-01-01</td>\n",
       "      <td>0.0</td>\n",
       "      <td>85.0</td>\n",
       "      <td>Released</td>\n",
       "      <td>The White Balloon</td>\n",
       "      <td>7.5</td>\n",
       "      <td>20.0</td>\n",
       "      <td>1995</td>\n",
       "      <td>0.00</td>\n",
       "      <td>Jafar Panahi</td>\n",
       "    </tr>\n",
       "    <tr>\n",
       "      <th>10680</th>\n",
       "      <td>None</td>\n",
       "      <td>0.0</td>\n",
       "      <td>['Drama', 'Fantasy']</td>\n",
       "      <td>4495</td>\n",
       "      <td>es</td>\n",
       "      <td>In the aftermath of the Spanish Civil War, Ana...</td>\n",
       "      <td>5.446736</td>\n",
       "      <td>['Elías Querejeta Producciones Cinematográfica...</td>\n",
       "      <td>['Spain']</td>\n",
       "      <td>1973-10-08</td>\n",
       "      <td>0.0</td>\n",
       "      <td>97.0</td>\n",
       "      <td>Released</td>\n",
       "      <td>The Spirit of the Beehive</td>\n",
       "      <td>7.5</td>\n",
       "      <td>75.0</td>\n",
       "      <td>1973</td>\n",
       "      <td>0.00</td>\n",
       "      <td>Víctor Erice</td>\n",
       "    </tr>\n",
       "    <tr>\n",
       "      <th>23392</th>\n",
       "      <td>None</td>\n",
       "      <td>160000000.0</td>\n",
       "      <td>['Action', 'Science Fiction', 'Thriller']</td>\n",
       "      <td>124905</td>\n",
       "      <td>en</td>\n",
       "      <td>Ford Brody, a Navy bomb expert, has just reuni...</td>\n",
       "      <td>14.019239</td>\n",
       "      <td>['Toho Company', 'Legendary Pictures', 'Warner...</td>\n",
       "      <td>['Japan', 'United States of America']</td>\n",
       "      <td>2014-05-14</td>\n",
       "      <td>529076069.0</td>\n",
       "      <td>123.0</td>\n",
       "      <td>Released</td>\n",
       "      <td>Godzilla</td>\n",
       "      <td>6.1</td>\n",
       "      <td>3232.0</td>\n",
       "      <td>2014</td>\n",
       "      <td>3.31</td>\n",
       "      <td>Gareth Edwards</td>\n",
       "    </tr>\n",
       "    <tr>\n",
       "      <th>12274</th>\n",
       "      <td>None</td>\n",
       "      <td>7800000.0</td>\n",
       "      <td>['Drama']</td>\n",
       "      <td>25460</td>\n",
       "      <td>en</td>\n",
       "      <td>While fighting for a woman who sits on death r...</td>\n",
       "      <td>2.463468</td>\n",
       "      <td>['Audley Films LLP', 'Moviefan Scandinavia A/S...</td>\n",
       "      <td>['Denmark', 'United Kingdom', 'United States o...</td>\n",
       "      <td>2004-09-17</td>\n",
       "      <td>0.0</td>\n",
       "      <td>109.0</td>\n",
       "      <td>Released</td>\n",
       "      <td>Return to Sender</td>\n",
       "      <td>5.9</td>\n",
       "      <td>13.0</td>\n",
       "      <td>2004</td>\n",
       "      <td>0.00</td>\n",
       "      <td>Bille August</td>\n",
       "    </tr>\n",
       "    <tr>\n",
       "      <th>6784</th>\n",
       "      <td>None</td>\n",
       "      <td>0.0</td>\n",
       "      <td>['Comedy']</td>\n",
       "      <td>20684</td>\n",
       "      <td>en</td>\n",
       "      <td>Henry Harding MP, a British government ministe...</td>\n",
       "      <td>1.25361</td>\n",
       "      <td>['Cyclops Vision', 'PTTP Films']</td>\n",
       "      <td>['United Kingdom']</td>\n",
       "      <td>1997-07-04</td>\n",
       "      <td>0.0</td>\n",
       "      <td>100.0</td>\n",
       "      <td>Released</td>\n",
       "      <td>Preaching to the Perverted</td>\n",
       "      <td>6.5</td>\n",
       "      <td>8.0</td>\n",
       "      <td>1997</td>\n",
       "      <td>0.00</td>\n",
       "      <td>Stuart Urban</td>\n",
       "    </tr>\n",
       "  </tbody>\n",
       "</table>\n",
       "</div>"
      ],
      "text/plain": [
       "      belongs_to_collection       budget                                     genres      id original_language                                           overview popularity                               production_companies                               production_countries release_date      revenue  runtime    status                       title  vote_average  vote_count  release_year  return        director\n",
       "79                     None          0.0                        ['Family', 'Drama']   46785                fa  Several people try to take advantage of a litt...   1.196256             ['I.R.I.B. Channel 2', 'Ferdos Films']                                           ['Iran']   1995-01-01          0.0     85.0  Released           The White Balloon           7.5        20.0          1995    0.00    Jafar Panahi\n",
       "10680                  None          0.0                       ['Drama', 'Fantasy']    4495                es  In the aftermath of the Spanish Civil War, Ana...   5.446736  ['Elías Querejeta Producciones Cinematográfica...                                          ['Spain']   1973-10-08          0.0     97.0  Released   The Spirit of the Beehive           7.5        75.0          1973    0.00    Víctor Erice\n",
       "23392                  None  160000000.0  ['Action', 'Science Fiction', 'Thriller']  124905                en  Ford Brody, a Navy bomb expert, has just reuni...  14.019239  ['Toho Company', 'Legendary Pictures', 'Warner...              ['Japan', 'United States of America']   2014-05-14  529076069.0    123.0  Released                    Godzilla           6.1      3232.0          2014    3.31  Gareth Edwards\n",
       "12274                  None    7800000.0                                  ['Drama']   25460                en  While fighting for a woman who sits on death r...   2.463468  ['Audley Films LLP', 'Moviefan Scandinavia A/S...  ['Denmark', 'United Kingdom', 'United States o...   2004-09-17          0.0    109.0  Released            Return to Sender           5.9        13.0          2004    0.00    Bille August\n",
       "6784                   None          0.0                                 ['Comedy']   20684                en  Henry Harding MP, a British government ministe...    1.25361                   ['Cyclops Vision', 'PTTP Films']                                 ['United Kingdom']   1997-07-04          0.0    100.0  Released  Preaching to the Perverted           6.5         8.0          1997    0.00    Stuart Urban"
      ]
     },
     "execution_count": 80,
     "metadata": {},
     "output_type": "execute_result"
    }
   ],
   "source": [
    "pd.set_option('display.width', 1000)\n",
    "df.sample(5)"
   ]
  },
  {
   "cell_type": "code",
   "execution_count": 71,
   "metadata": {},
   "outputs": [
    {
     "name": "stdout",
     "output_type": "stream",
     "text": [
      "<class 'pandas.core.frame.DataFrame'>\n",
      "Int64Index: 45429 entries, 0 to 45428\n",
      "Data columns (total 19 columns):\n",
      " #   Column                 Non-Null Count  Dtype  \n",
      "---  ------                 --------------  -----  \n",
      " 0   belongs_to_collection  4495 non-null   object \n",
      " 1   budget                 45429 non-null  float64\n",
      " 2   genres                 45429 non-null  object \n",
      " 3   id                     45429 non-null  int64  \n",
      " 4   original_language      45418 non-null  object \n",
      " 5   overview               45429 non-null  object \n",
      " 6   popularity             45429 non-null  object \n",
      " 7   production_companies   45429 non-null  object \n",
      " 8   production_countries   45429 non-null  object \n",
      " 9   release_date           45429 non-null  object \n",
      " 10  revenue                45429 non-null  float64\n",
      " 11  runtime                45183 non-null  float64\n",
      " 12  status                 45349 non-null  object \n",
      " 13  title                  45429 non-null  object \n",
      " 14  vote_average           45429 non-null  float64\n",
      " 15  vote_count             45429 non-null  float64\n",
      " 16  release_year           45429 non-null  int64  \n",
      " 17  return                 45429 non-null  float64\n",
      " 18  director               45429 non-null  object \n",
      "dtypes: float64(6), int64(2), object(11)\n",
      "memory usage: 6.9+ MB\n"
     ]
    }
   ],
   "source": [
    "df.info()"
   ]
  },
  {
   "cell_type": "code",
   "execution_count": 72,
   "metadata": {},
   "outputs": [
    {
     "data": {
      "text/html": [
       "<div>\n",
       "<style scoped>\n",
       "    .dataframe tbody tr th:only-of-type {\n",
       "        vertical-align: middle;\n",
       "    }\n",
       "\n",
       "    .dataframe tbody tr th {\n",
       "        vertical-align: top;\n",
       "    }\n",
       "\n",
       "    .dataframe thead th {\n",
       "        text-align: right;\n",
       "    }\n",
       "</style>\n",
       "<table border=\"1\" class=\"dataframe\">\n",
       "  <thead>\n",
       "    <tr style=\"text-align: right;\">\n",
       "      <th></th>\n",
       "      <th>budget</th>\n",
       "      <th>id</th>\n",
       "      <th>revenue</th>\n",
       "      <th>runtime</th>\n",
       "      <th>vote_average</th>\n",
       "      <th>vote_count</th>\n",
       "      <th>release_year</th>\n",
       "      <th>return</th>\n",
       "    </tr>\n",
       "  </thead>\n",
       "  <tbody>\n",
       "    <tr>\n",
       "      <th>count</th>\n",
       "      <td>4.542900e+04</td>\n",
       "      <td>45429.000000</td>\n",
       "      <td>4.542900e+04</td>\n",
       "      <td>45183.000000</td>\n",
       "      <td>45429.000000</td>\n",
       "      <td>45429.000000</td>\n",
       "      <td>45429.000000</td>\n",
       "      <td>4.542900e+04</td>\n",
       "    </tr>\n",
       "    <tr>\n",
       "      <th>mean</th>\n",
       "      <td>4.232302e+06</td>\n",
       "      <td>107994.348742</td>\n",
       "      <td>1.122324e+07</td>\n",
       "      <td>94.178784</td>\n",
       "      <td>5.624130</td>\n",
       "      <td>109.993176</td>\n",
       "      <td>1991.879240</td>\n",
       "      <td>6.592733e+02</td>\n",
       "    </tr>\n",
       "    <tr>\n",
       "      <th>std</th>\n",
       "      <td>1.743291e+07</td>\n",
       "      <td>112120.983871</td>\n",
       "      <td>6.435476e+07</td>\n",
       "      <td>38.328436</td>\n",
       "      <td>1.915169</td>\n",
       "      <td>491.433718</td>\n",
       "      <td>24.058656</td>\n",
       "      <td>7.464971e+04</td>\n",
       "    </tr>\n",
       "    <tr>\n",
       "      <th>min</th>\n",
       "      <td>0.000000e+00</td>\n",
       "      <td>2.000000</td>\n",
       "      <td>0.000000e+00</td>\n",
       "      <td>0.000000</td>\n",
       "      <td>0.000000</td>\n",
       "      <td>0.000000</td>\n",
       "      <td>1874.000000</td>\n",
       "      <td>0.000000e+00</td>\n",
       "    </tr>\n",
       "    <tr>\n",
       "      <th>25%</th>\n",
       "      <td>0.000000e+00</td>\n",
       "      <td>26368.000000</td>\n",
       "      <td>0.000000e+00</td>\n",
       "      <td>85.000000</td>\n",
       "      <td>5.000000</td>\n",
       "      <td>3.000000</td>\n",
       "      <td>1978.000000</td>\n",
       "      <td>0.000000e+00</td>\n",
       "    </tr>\n",
       "    <tr>\n",
       "      <th>50%</th>\n",
       "      <td>0.000000e+00</td>\n",
       "      <td>59873.000000</td>\n",
       "      <td>0.000000e+00</td>\n",
       "      <td>95.000000</td>\n",
       "      <td>6.000000</td>\n",
       "      <td>10.000000</td>\n",
       "      <td>2001.000000</td>\n",
       "      <td>0.000000e+00</td>\n",
       "    </tr>\n",
       "    <tr>\n",
       "      <th>75%</th>\n",
       "      <td>0.000000e+00</td>\n",
       "      <td>156335.000000</td>\n",
       "      <td>0.000000e+00</td>\n",
       "      <td>107.000000</td>\n",
       "      <td>6.800000</td>\n",
       "      <td>34.000000</td>\n",
       "      <td>2010.000000</td>\n",
       "      <td>0.000000e+00</td>\n",
       "    </tr>\n",
       "    <tr>\n",
       "      <th>max</th>\n",
       "      <td>3.800000e+08</td>\n",
       "      <td>469172.000000</td>\n",
       "      <td>2.787965e+09</td>\n",
       "      <td>1256.000000</td>\n",
       "      <td>10.000000</td>\n",
       "      <td>14075.000000</td>\n",
       "      <td>2020.000000</td>\n",
       "      <td>1.239638e+07</td>\n",
       "    </tr>\n",
       "  </tbody>\n",
       "</table>\n",
       "</div>"
      ],
      "text/plain": [
       "             budget             id       revenue       runtime  vote_average  \\\n",
       "count  4.542900e+04   45429.000000  4.542900e+04  45183.000000  45429.000000   \n",
       "mean   4.232302e+06  107994.348742  1.122324e+07     94.178784      5.624130   \n",
       "std    1.743291e+07  112120.983871  6.435476e+07     38.328436      1.915169   \n",
       "min    0.000000e+00       2.000000  0.000000e+00      0.000000      0.000000   \n",
       "25%    0.000000e+00   26368.000000  0.000000e+00     85.000000      5.000000   \n",
       "50%    0.000000e+00   59873.000000  0.000000e+00     95.000000      6.000000   \n",
       "75%    0.000000e+00  156335.000000  0.000000e+00    107.000000      6.800000   \n",
       "max    3.800000e+08  469172.000000  2.787965e+09   1256.000000     10.000000   \n",
       "\n",
       "         vote_count  release_year        return  \n",
       "count  45429.000000  45429.000000  4.542900e+04  \n",
       "mean     109.993176   1991.879240  6.592733e+02  \n",
       "std      491.433718     24.058656  7.464971e+04  \n",
       "min        0.000000   1874.000000  0.000000e+00  \n",
       "25%        3.000000   1978.000000  0.000000e+00  \n",
       "50%       10.000000   2001.000000  0.000000e+00  \n",
       "75%       34.000000   2010.000000  0.000000e+00  \n",
       "max    14075.000000   2020.000000  1.239638e+07  "
      ]
     },
     "execution_count": 72,
     "metadata": {},
     "output_type": "execute_result"
    }
   ],
   "source": [
    "df.describe()"
   ]
  },
  {
   "cell_type": "markdown",
   "metadata": {},
   "source": [
    "1) Numerics values does not seems to say much for recomendation of similar movies\n",
    "2) Let's analyze text based columns"
   ]
  },
  {
   "cell_type": "code",
   "execution_count": 74,
   "metadata": {},
   "outputs": [],
   "source": [
    "def plot_top_words_barchart(text):\n",
    "    \"\"\"\n",
    "    Plot top 12 words in the specified column\n",
    "    excluding stopwords and words with len < 3 \n",
    "    \"\"\"\n",
    "\n",
    "    stop=set(stopwords.words('english'))\n",
    "  \n",
    "    new=text.str.lower()   \n",
    "    new = new.apply(lambda w: re.sub('[%s]' % re.escape(string.punctuation), '', w) )\n",
    "\n",
    "    new= new.str.split()\n",
    "    new = new.values.tolist()\n",
    "    corpus = []\n",
    "    for i in new:\n",
    "        for j in i:\n",
    "            if len(j)>2 and j not in stop:\n",
    "                corpus.append(j)\n",
    "\n",
    "    counter=Counter(corpus)\n",
    "    most=counter.most_common()\n",
    "\n",
    "    x, y=[], []\n",
    "    for word,count in most[:12]:\n",
    "        if (word not in stop):\n",
    "            x.append(word)\n",
    "            y.append(count)\n",
    "        \n",
    "            \n",
    "    sns.barplot(x=y,y=x)\n",
    "\n"
   ]
  },
  {
   "cell_type": "code",
   "execution_count": 75,
   "metadata": {},
   "outputs": [
    {
     "data": {
      "image/png": "[encoded data removed]",
      "text/plain": [
       "<Figure size 432x288 with 1 Axes>"
      ]
     },
     "metadata": {
      "needs_background": "light"
     },
     "output_type": "display_data"
    }
   ],
   "source": [
    "# word distribution for overview\n",
    "plot_top_words_barchart(df['overview'].dropna())\n",
    "\n",
    "# Looks OK"
   ]
  },
  {
   "cell_type": "code",
   "execution_count": 79,
   "metadata": {},
   "outputs": [
    {
     "data": {
      "text/plain": [
       "<AxesSubplot:>"
      ]
     },
     "execution_count": 79,
     "metadata": {},
     "output_type": "execute_result"
    },
    {
     "data": {
      "image/png": "[encoded data removed]",
      "text/plain": [
       "<Figure size 432x288 with 1 Axes>"
      ]
     },
     "metadata": {
      "needs_background": "light"
     },
     "output_type": "display_data"
    }
   ],
   "source": [
    "# Word count distribution for overview\n",
    "df['overview'].str.len().hist()"
   ]
  },
  {
   "cell_type": "code",
   "execution_count": 76,
   "metadata": {},
   "outputs": [
    {
     "data": {
      "image/png": "[encoded data removed]",
      "text/plain": [
       "<Figure size 432x288 with 1 Axes>"
      ]
     },
     "metadata": {
      "needs_background": "light"
     },
     "output_type": "display_data"
    }
   ],
   "source": [
    "# word distribution for belongs_to_collection\n",
    "plot_top_words_barchart(df['belongs_to_collection'].dropna())\n",
    "\n",
    "# collection, series &trilogy would be removed"
   ]
  },
  {
   "cell_type": "code",
   "execution_count": 77,
   "metadata": {},
   "outputs": [
    {
     "data": {
      "image/png": "[encoded data removed]",
      "text/plain": [
       "<Figure size 432x288 with 1 Axes>"
      ]
     },
     "metadata": {
      "needs_background": "light"
     },
     "output_type": "display_data"
    }
   ],
   "source": [
    "# word distribution for genres\n",
    "plot_top_words_barchart(df['genres'].dropna())\n",
    "\n",
    "# Looks OK"
   ]
  },
  {
   "cell_type": "code",
   "execution_count": 78,
   "metadata": {},
   "outputs": [
    {
     "data": {
      "image/png": "[encoded data removed]",
      "text/plain": [
       "<Figure size 432x288 with 1 Axes>"
      ]
     },
     "metadata": {
      "needs_background": "light"
     },
     "output_type": "display_data"
    }
   ],
   "source": [
    "# word distribution for director\n",
    "plot_top_words_barchart(df['director'].dropna())\n",
    "\n",
    "# Should join first & lastname or use ngram_range=(1,2) in model to make it usable"
   ]
  }
 ],
 "metadata": {
  "kernelspec": {
   "display_name": "Python 3",
   "language": "python",
   "name": "python3"
  },
  "language_info": {
   "codemirror_mode": {
    "name": "ipython",
    "version": 3
   },
   "file_extension": ".py",
   "mimetype": "text/x-python",
   "name": "python",
   "nbconvert_exporter": "python",
   "pygments_lexer": "ipython3",
   "version": "3.10.12"
  },
  "orig_nbformat": 4
 },
 "nbformat": 4,
 "nbformat_minor": 2
}
