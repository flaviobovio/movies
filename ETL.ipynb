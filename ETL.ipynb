{
 "cells": [
  {
   "cell_type": "code",
   "execution_count": 1,
   "metadata": {},
   "outputs": [],
   "source": [
    "import pandas as pd\n",
    "import ast \n"
   ]
  },
  {
   "cell_type": "code",
   "execution_count": 2,
   "metadata": {},
   "outputs": [],
   "source": [
    "# Load movies data on DF\n",
    "df_movies = pd.read_csv('data/movies_dataset.csv', dtype={'popularity':object})"
   ]
  },
  {
   "cell_type": "code",
   "execution_count": 3,
   "metadata": {},
   "outputs": [
    {
     "name": "stdout",
     "output_type": "stream",
     "text": [
      "<class 'pandas.core.frame.DataFrame'>\n",
      "RangeIndex: 45466 entries, 0 to 45465\n",
      "Data columns (total 24 columns):\n",
      " #   Column                 Non-Null Count  Dtype  \n",
      "---  ------                 --------------  -----  \n",
      " 0   adult                  45466 non-null  object \n",
      " 1   belongs_to_collection  4494 non-null   object \n",
      " 2   budget                 45466 non-null  object \n",
      " 3   genres                 45466 non-null  object \n",
      " 4   homepage               7782 non-null   object \n",
      " 5   id                     45466 non-null  object \n",
      " 6   imdb_id                45449 non-null  object \n",
      " 7   original_language      45455 non-null  object \n",
      " 8   original_title         45466 non-null  object \n",
      " 9   overview               44512 non-null  object \n",
      " 10  popularity             45461 non-null  object \n",
      " 11  poster_path            45080 non-null  object \n",
      " 12  production_companies   45463 non-null  object \n",
      " 13  production_countries   45463 non-null  object \n",
      " 14  release_date           45379 non-null  object \n",
      " 15  revenue                45460 non-null  float64\n",
      " 16  runtime                45203 non-null  float64\n",
      " 17  spoken_languages       45460 non-null  object \n",
      " 18  status                 45379 non-null  object \n",
      " 19  tagline                20412 non-null  object \n",
      " 20  title                  45460 non-null  object \n",
      " 21  video                  45460 non-null  object \n",
      " 22  vote_average           45460 non-null  float64\n",
      " 23  vote_count             45460 non-null  float64\n",
      "dtypes: float64(4), object(20)\n",
      "memory usage: 8.3+ MB\n"
     ]
    }
   ],
   "source": [
    "df_movies.info()"
   ]
  },
  {
   "cell_type": "code",
   "execution_count": 4,
   "metadata": {},
   "outputs": [],
   "source": [
    "# Delete movies without title (Nill or empty)\n",
    "\n",
    "df_movies.dropna(subset=['title'], inplace=True)\n",
    "\n",
    "mask = df_movies['title'].str.len() > 1\n",
    "df_movies = df_movies.loc[mask]\n"
   ]
  },
  {
   "cell_type": "code",
   "execution_count": 5,
   "metadata": {},
   "outputs": [],
   "source": [
    "# Replace null with 0\n",
    "df_movies['revenue'].fillna(0, inplace=True)\n",
    "\n",
    "# Convert column to float & replace null with 0\n",
    "df_movies.budget = df_movies.budget.astype(float)\n",
    "df_movies['budget'].fillna(0, inplace=True)\n"
   ]
  },
  {
   "cell_type": "code",
   "execution_count": 6,
   "metadata": {},
   "outputs": [],
   "source": [
    "# Extract collection name from belongs_to_collection string dict \n",
    "\n",
    "def collection_to_string(row):\n",
    "    if type(row.belongs_to_collection) == str:\n",
    "        collection = ast.literal_eval(row.belongs_to_collection)['name'] \n",
    "        return collection\n",
    "\n",
    "    return None  \n",
    "\n",
    "df_movies.belongs_to_collection = df_movies.apply(collection_to_string, axis=1)"
   ]
  },
  {
   "cell_type": "code",
   "execution_count": 7,
   "metadata": {},
   "outputs": [],
   "source": [
    "# Extract countries names from production_countries string dict\n",
    "\n",
    "def countries_to_list(row):\n",
    "    if type(row.production_countries) == str:\n",
    "        countries = ast.literal_eval(row.production_countries)\n",
    "        list_countries = [c['name'] for c in countries]\n",
    "        return str(list_countries)\n",
    "    \n",
    "    return '[]'\n",
    "\n",
    "df_movies.production_countries = df_movies.apply(countries_to_list, axis=1)"
   ]
  },
  {
   "cell_type": "code",
   "execution_count": 8,
   "metadata": {},
   "outputs": [],
   "source": [
    "# Extract companies names from production_companies string dict\n",
    "def companies_to_list(row):\n",
    "\n",
    "    if type(row.production_companies) == str:\n",
    "        companies = ast.literal_eval(row.production_companies)\n",
    "        list_companies = [c['name'] for c in companies]\n",
    "        return str(list_companies)\n",
    "    \n",
    "    return '[]'\n",
    "\n",
    "df_movies.production_companies = df_movies.apply(companies_to_list, axis=1)"
   ]
  },
  {
   "cell_type": "code",
   "execution_count": 9,
   "metadata": {},
   "outputs": [],
   "source": [
    "# Extract gen names from genres string dict\n",
    "def genres_to_list(row):\n",
    "\n",
    "    if type(row.genres) == str:\n",
    "        genero = ast.literal_eval(row.genres)\n",
    "        if len(genero) >0:\n",
    "            list_genero = [g['name'] for g in genero]\n",
    "            return str(list_genero)\n",
    "    \n",
    "    return '[]'\n",
    "\n",
    "df_movies.genres = df_movies.apply(genres_to_list, axis=1)"
   ]
  },
  {
   "cell_type": "code",
   "execution_count": 10,
   "metadata": {},
   "outputs": [],
   "source": [
    "# Delete rows with empty release date\n",
    "df_movies.count()\n",
    "df_movies.dropna(subset=['release_date'], inplace=True)"
   ]
  },
  {
   "cell_type": "code",
   "execution_count": 11,
   "metadata": {},
   "outputs": [],
   "source": [
    "# Add release year column\n",
    "df_movies['release_year'] = df_movies['release_date'].apply(lambda x : int(x[:4]))"
   ]
  },
  {
   "cell_type": "code",
   "execution_count": 12,
   "metadata": {},
   "outputs": [],
   "source": [
    "# Calculate return\n",
    "\n",
    "def calculo_return (row):\n",
    "    if type(row.revenue)==float and type(row.budget)==float and row.budget>0:\n",
    "        return round(row.revenue/row.budget, 2)\n",
    "    return 0\n",
    "\n",
    "df_movies['return'] = df_movies.apply(calculo_return, axis=1)\n"
   ]
  },
  {
   "cell_type": "code",
   "execution_count": 13,
   "metadata": {},
   "outputs": [],
   "source": [
    "# add director from credits\n",
    "def extract_director(row):\n",
    "\n",
    "    if type(row.crew) == str:\n",
    "        crew = ast.literal_eval(row.crew)\n",
    "        \n",
    "        if len(crew)> 0:\n",
    "            for d in crew:\n",
    "                if 'Director' in d.values():\n",
    "                    director = d['name']\n",
    "                    return director\n",
    "    \n",
    "    return ''\n",
    "\n",
    "df_credits = pd.read_csv('data/credits.csv')\n",
    "df_credits['director'] = df_credits.apply(extract_director, axis=1)\n",
    "df_credits.drop(columns=['crew','cast'], inplace=True)\n",
    "\n",
    "#make ids same type\n",
    "df_movies.id = df_movies.id.astype(int)\n",
    "#add director column to df_movies\n",
    "df_movies = pd.merge(df_movies, df_credits, on='id', how='inner')"
   ]
  },
  {
   "cell_type": "code",
   "execution_count": 14,
   "metadata": {},
   "outputs": [],
   "source": [
    "#make overiew str for all rows\n",
    "df_movies['overview'].fillna('', inplace=True)"
   ]
  },
  {
   "cell_type": "code",
   "execution_count": 15,
   "metadata": {},
   "outputs": [],
   "source": [
    "#drop duplicates titles\n",
    "df_movies  = df_movies.drop_duplicates(subset='title', keep='last')"
   ]
  },
  {
   "cell_type": "code",
   "execution_count": 16,
   "metadata": {},
   "outputs": [],
   "source": [
    "#Drop useless columns\n",
    "df_movies.drop(columns=['video','imdb_id','adult','original_title','poster_path'\\\n",
    "                        ,'homepage', 'spoken_languages', 'tagline', 'video'], inplace=True)"
   ]
  },
  {
   "cell_type": "code",
   "execution_count": 17,
   "metadata": {},
   "outputs": [],
   "source": [
    "#Save clean DataFrame\n",
    "df_movies.to_parquet('data/movies_clean.pq')\n",
    "del df_movies\n",
    "del df_credits"
   ]
  }
 ],
 "metadata": {
  "kernelspec": {
   "display_name": "Python 3",
   "language": "python",
   "name": "python3"
  },
  "language_info": {
   "codemirror_mode": {
    "name": "ipython",
    "version": 3
   },
   "file_extension": ".py",
   "mimetype": "text/x-python",
   "name": "python",
   "nbconvert_exporter": "python",
   "pygments_lexer": "ipython3",
   "version": "3.10.12"
  },
  "orig_nbformat": 4
 },
 "nbformat": 4,
 "nbformat_minor": 2
}
