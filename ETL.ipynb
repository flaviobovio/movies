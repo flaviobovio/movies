{
 "cells": [
  {
   "cell_type": "code",
   "execution_count": 1,
   "metadata": {},
   "outputs": [],
   "source": [
    "import pandas as pd\n",
    "import ast \n"
   ]
  },
  {
   "cell_type": "code",
   "execution_count": 2,
   "metadata": {},
   "outputs": [],
   "source": [
    "# Load movies data on DF\n",
    "df_movies = pd.read_csv('data/movies_dataset.csv', dtype={'popularity':object})"
   ]
  },
  {
   "cell_type": "code",
   "execution_count": 3,
   "metadata": {},
   "outputs": [],
   "source": [
    "# Delete movies without title\n",
    "mask = df_movies['title'] > ''\n",
    "df_movies = df_movies.loc[mask]"
   ]
  },
  {
   "cell_type": "code",
   "execution_count": 4,
   "metadata": {},
   "outputs": [],
   "source": [
    "# Replace null with 0\n",
    "df_movies['revenue'].fillna(0, inplace=True)\n",
    "\n",
    "# Convert column to float & replace null with 0\n",
    "df_movies.budget = df_movies.budget.astype(float)\n",
    "df_movies['budget'].fillna(0, inplace=True)\n"
   ]
  },
  {
   "cell_type": "code",
   "execution_count": 5,
   "metadata": {},
   "outputs": [],
   "source": [
    "# Extract collection name from belongs_to_collection string dict \n",
    "\n",
    "def collection_to_string(row):\n",
    "    if type(row.belongs_to_collection) == str:\n",
    "        collection = ast.literal_eval(row.belongs_to_collection)['name'] \n",
    "        return collection\n",
    "\n",
    "    return None  \n",
    "\n",
    "df_movies.belongs_to_collection = df_movies.apply(collection_to_string, axis=1)"
   ]
  },
  {
   "cell_type": "code",
   "execution_count": 6,
   "metadata": {},
   "outputs": [],
   "source": [
    "# Extract countries names from production_countries string dict\n",
    "\n",
    "def countries_to_list(row):\n",
    "    if type(row.production_countries) == str:\n",
    "        countries = ast.literal_eval(row.production_countries)\n",
    "        list_countries = [c['name'] for c in countries]\n",
    "        return list_countries\n",
    "    \n",
    "    return '[]'\n",
    "\n",
    "df_movies.production_countries = df_movies.apply(countries_to_list, axis=1)"
   ]
  },
  {
   "cell_type": "code",
   "execution_count": 7,
   "metadata": {},
   "outputs": [],
   "source": [
    "# Extract companies names from production_companies string dict\n",
    "def companies_to_list(row):\n",
    "\n",
    "    if type(row.production_companies) == str:\n",
    "        companies = ast.literal_eval(row.production_companies)\n",
    "        list_companies = [c['name'] for c in companies]\n",
    "        return list_companies\n",
    "    \n",
    "    return '[]'\n",
    "\n",
    "df_movies.production_companies = df_movies.apply(companies_to_list, axis=1)"
   ]
  },
  {
   "cell_type": "code",
   "execution_count": 8,
   "metadata": {},
   "outputs": [],
   "source": [
    "# Delete rows with empty release date\n",
    "df_movies.count()\n",
    "df_movies.dropna(subset=['release_date'], inplace=True)"
   ]
  },
  {
   "cell_type": "code",
   "execution_count": 9,
   "metadata": {},
   "outputs": [],
   "source": [
    "# Add release year column\n",
    "df_movies['release_year'] = df_movies['release_date'].apply(lambda x : x[:4])"
   ]
  },
  {
   "cell_type": "code",
   "execution_count": 10,
   "metadata": {},
   "outputs": [],
   "source": [
    "# Calculate return\n",
    "\n",
    "def calculo_return (row):\n",
    "    if type(row.revenue)==float and type(row.budget)==float and row.budget>0:\n",
    "        return round(row.revenue/row.budget, 2)\n",
    "    return 0\n",
    "\n",
    "df_movies['return'] = df_movies.apply(calculo_return, axis=1)\n"
   ]
  },
  {
   "cell_type": "code",
   "execution_count": 11,
   "metadata": {},
   "outputs": [],
   "source": [
    "# add director from credits\n",
    "def extract_director(row):\n",
    "\n",
    "    if type(row.crew) == str:\n",
    "        crew = ast.literal_eval(row.crew)\n",
    "        if len(crew)> 0:\n",
    "            director = crew[0]['name']\n",
    "            return director\n",
    "    \n",
    "    return ''\n",
    "\n",
    "df_credits = pd.read_csv('data/credits.csv')\n",
    "df_credits['director'] = df_credits.apply(extract_director, axis=1)\n",
    "df_credits.drop(columns=['crew','cast'], inplace=True)\n",
    "\n",
    "#make ids same type\n",
    "df_movies.id = df_movies.id.astype(int)\n",
    "#add director column to df_movies\n",
    "df_movies = pd.merge(df_movies, df_credits, on='id', how='inner')"
   ]
  },
  {
   "cell_type": "code",
   "execution_count": 12,
   "metadata": {},
   "outputs": [],
   "source": [
    "#Drop useless columns\n",
    "df_movies.drop(columns=['video','imdb_id','adult','original_title','poster_path','homepage'], inplace=True)"
   ]
  },
  {
   "cell_type": "code",
   "execution_count": 13,
   "metadata": {},
   "outputs": [],
   "source": [
    "#Save DataFrame\n",
    "df_movies.to_csv('data/movies_clean.csv')\n",
    "del df_movies\n",
    "del df_credits"
   ]
  }
 ],
 "metadata": {
  "kernelspec": {
   "display_name": "Python 3",
   "language": "python",
   "name": "python3"
  },
  "language_info": {
   "codemirror_mode": {
    "name": "ipython",
    "version": 3
   },
   "file_extension": ".py",
   "mimetype": "text/x-python",
   "name": "python",
   "nbconvert_exporter": "python",
   "pygments_lexer": "ipython3",
   "version": "3.8.10"
  },
  "orig_nbformat": 4
 },
 "nbformat": 4,
 "nbformat_minor": 2
}
