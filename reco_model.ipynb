{
 "cells": [
  {
   "cell_type": "code",
   "execution_count": 1,
   "metadata": {},
   "outputs": [],
   "source": [
    "import pandas as pd\n",
    "import re\n",
    "import string\n",
    "from sklearn.feature_extraction.text import TfidfVectorizer\n",
    "from sklearn.feature_extraction.text import CountVectorizer\n",
    "from sklearn.metrics.pairwise import cosine_similarity\n",
    "from sklearn.metrics.pairwise import linear_kernel\n"
   ]
  },
  {
   "cell_type": "code",
   "execution_count": 2,
   "metadata": {},
   "outputs": [],
   "source": [
    "df = pd.read_parquet('data/movies_clean.pq')\n",
    "pd.set_option('display.width', 1000)\n"
   ]
  },
  {
   "cell_type": "code",
   "execution_count": 3,
   "metadata": {},
   "outputs": [],
   "source": [
    "# Reduce dataset size limiting the release year to be greater than 1950\n",
    "df.title = df.title.astype(str)\n",
    "df = df [df['release_year']>1950]"
   ]
  },
  {
   "cell_type": "code",
   "execution_count": 4,
   "metadata": {},
   "outputs": [],
   "source": [
    "def clean_text(text):\n",
    "    ''' Clean text function for content column\n",
    "        Make text lowercase,remove punctuation\n",
    "    .'''  \n",
    "    text = str(text).lower().replace('collection','')\n",
    "    text = re.sub('[%s]' % re.escape(string.punctuation), '', text)\n",
    "    text = re.sub('\\n', '', text)\n",
    "    return text\n",
    "\n",
    "df['belongs_to_collection'].fillna('', inplace=True)\n",
    "df['content'] = df['title'] + \" \" + df['overview'] + \" \" + df['genres'] + ' ' +\\\n",
    "    df['belongs_to_collection'].replace('collection','').replace('series','').replace('trilogy','')\\\n",
    "    + ' ' + df['director']\n",
    "\n",
    "#Create the content column for model input\n",
    "df['content'] = df['content'].apply(lambda x:clean_text(x))"
   ]
  },
  {
   "cell_type": "code",
   "execution_count": 5,
   "metadata": {},
   "outputs": [
    {
     "data": {
      "text/plain": [
       "0        toy story led by woody andys toys live happily...\n",
       "1        jumanji when siblings judy and peter discover ...\n",
       "2        grumpier old men a family wedding reignites th...\n",
       "3        waiting to exhale cheated on mistreated and st...\n",
       "4        father of the bride part ii just when george b...\n",
       "                               ...                        \n",
       "45423    caged heat 3000 its the year 3000 ad the world...\n",
       "45424    robin hood yet another version of the classic ...\n",
       "45425    century of birthing an artist struggles to fin...\n",
       "45426    betrayal when one of her hits goes wrong a pro...\n",
       "45428    queerama 50 years after decriminalisation of h...\n",
       "Name: content, Length: 38804, dtype: object"
      ]
     },
     "execution_count": 5,
     "metadata": {},
     "output_type": "execute_result"
    }
   ],
   "source": [
    "df['content']"
   ]
  },
  {
   "cell_type": "code",
   "execution_count": 6,
   "metadata": {},
   "outputs": [
    {
     "name": "stdout",
     "output_type": "stream",
     "text": [
      "(16943, 20)\n",
      "(21861, 20)\n"
     ]
    }
   ],
   "source": [
    "# Split dataframe in 2 \n",
    "\n",
    "# Movies produced in United States\n",
    "df1 = df [df['production_countries'].str.contains('United States of America')]\n",
    "print(df1.shape)\n",
    "\n",
    "# Movies NOT produced in United States\n",
    "df2 = df [~df['production_countries'].str.contains('United States of America')]\n",
    "print(df2.shape)\n",
    "\n",
    "del df"
   ]
  },
  {
   "cell_type": "code",
   "execution_count": 7,
   "metadata": {},
   "outputs": [
    {
     "data": {
      "text/html": [
       "<div>\n",
       "<style scoped>\n",
       "    .dataframe tbody tr th:only-of-type {\n",
       "        vertical-align: middle;\n",
       "    }\n",
       "\n",
       "    .dataframe tbody tr th {\n",
       "        vertical-align: top;\n",
       "    }\n",
       "\n",
       "    .dataframe thead th {\n",
       "        text-align: right;\n",
       "    }\n",
       "</style>\n",
       "<table border=\"1\" class=\"dataframe\">\n",
       "  <thead>\n",
       "    <tr style=\"text-align: right;\">\n",
       "      <th></th>\n",
       "      <th>belongs_to_collection</th>\n",
       "      <th>budget</th>\n",
       "      <th>genres</th>\n",
       "      <th>id</th>\n",
       "      <th>original_language</th>\n",
       "      <th>overview</th>\n",
       "      <th>popularity</th>\n",
       "      <th>production_companies</th>\n",
       "      <th>production_countries</th>\n",
       "      <th>release_date</th>\n",
       "      <th>...</th>\n",
       "      <th>runtime</th>\n",
       "      <th>status</th>\n",
       "      <th>title</th>\n",
       "      <th>vote_average</th>\n",
       "      <th>vote_count</th>\n",
       "      <th>release_year</th>\n",
       "      <th>return</th>\n",
       "      <th>director</th>\n",
       "      <th>content</th>\n",
       "      <th>ids</th>\n",
       "    </tr>\n",
       "  </thead>\n",
       "  <tbody>\n",
       "    <tr>\n",
       "      <th>45423</th>\n",
       "      <td></td>\n",
       "      <td>0.0</td>\n",
       "      <td>['Science Fiction']</td>\n",
       "      <td>222848</td>\n",
       "      <td>en</td>\n",
       "      <td>It's the year 3000 AD. The world's most danger...</td>\n",
       "      <td>0.661558</td>\n",
       "      <td>['Concorde-New Horizons']</td>\n",
       "      <td>['United States of America']</td>\n",
       "      <td>1995-01-01</td>\n",
       "      <td>...</td>\n",
       "      <td>85.0</td>\n",
       "      <td>Released</td>\n",
       "      <td>Caged Heat 3000</td>\n",
       "      <td>3.5</td>\n",
       "      <td>1.0</td>\n",
       "      <td>1995</td>\n",
       "      <td>0.0</td>\n",
       "      <td>Aaron Osborne</td>\n",
       "      <td>caged heat 3000 its the year 3000 ad the world...</td>\n",
       "      <td>16940</td>\n",
       "    </tr>\n",
       "    <tr>\n",
       "      <th>45424</th>\n",
       "      <td></td>\n",
       "      <td>0.0</td>\n",
       "      <td>['Drama', 'Action', 'Romance']</td>\n",
       "      <td>30840</td>\n",
       "      <td>en</td>\n",
       "      <td>Yet another version of the classic epic, with ...</td>\n",
       "      <td>5.683753</td>\n",
       "      <td>['Westdeutscher Rundfunk (WDR)', 'Working Titl...</td>\n",
       "      <td>['Canada', 'Germany', 'United Kingdom', 'Unite...</td>\n",
       "      <td>1991-05-13</td>\n",
       "      <td>...</td>\n",
       "      <td>104.0</td>\n",
       "      <td>Released</td>\n",
       "      <td>Robin Hood</td>\n",
       "      <td>5.7</td>\n",
       "      <td>26.0</td>\n",
       "      <td>1991</td>\n",
       "      <td>0.0</td>\n",
       "      <td>John Irvin</td>\n",
       "      <td>robin hood yet another version of the classic ...</td>\n",
       "      <td>16941</td>\n",
       "    </tr>\n",
       "    <tr>\n",
       "      <th>45426</th>\n",
       "      <td></td>\n",
       "      <td>0.0</td>\n",
       "      <td>['Action', 'Drama', 'Thriller']</td>\n",
       "      <td>67758</td>\n",
       "      <td>en</td>\n",
       "      <td>When one of her hits goes wrong, a professiona...</td>\n",
       "      <td>0.903007</td>\n",
       "      <td>['American World Pictures']</td>\n",
       "      <td>['United States of America']</td>\n",
       "      <td>2003-08-01</td>\n",
       "      <td>...</td>\n",
       "      <td>90.0</td>\n",
       "      <td>Released</td>\n",
       "      <td>Betrayal</td>\n",
       "      <td>3.8</td>\n",
       "      <td>6.0</td>\n",
       "      <td>2003</td>\n",
       "      <td>0.0</td>\n",
       "      <td>Mark L. Lester</td>\n",
       "      <td>betrayal when one of her hits goes wrong a pro...</td>\n",
       "      <td>16942</td>\n",
       "    </tr>\n",
       "  </tbody>\n",
       "</table>\n",
       "<p>3 rows × 21 columns</p>\n",
       "</div>"
      ],
      "text/plain": [
       "      belongs_to_collection  budget                           genres      id original_language                                           overview popularity                               production_companies                               production_countries release_date  ...  runtime    status            title vote_average  vote_count  release_year  return        director                                            content    ids\n",
       "45423                           0.0              ['Science Fiction']  222848                en  It's the year 3000 AD. The world's most danger...   0.661558                          ['Concorde-New Horizons']                       ['United States of America']   1995-01-01  ...     85.0  Released  Caged Heat 3000          3.5         1.0          1995     0.0   Aaron Osborne  caged heat 3000 its the year 3000 ad the world...  16940\n",
       "45424                           0.0   ['Drama', 'Action', 'Romance']   30840                en  Yet another version of the classic epic, with ...   5.683753  ['Westdeutscher Rundfunk (WDR)', 'Working Titl...  ['Canada', 'Germany', 'United Kingdom', 'Unite...   1991-05-13  ...    104.0  Released       Robin Hood          5.7        26.0          1991     0.0      John Irvin  robin hood yet another version of the classic ...  16941\n",
       "45426                           0.0  ['Action', 'Drama', 'Thriller']   67758                en  When one of her hits goes wrong, a professiona...   0.903007                        ['American World Pictures']                       ['United States of America']   2003-08-01  ...     90.0  Released         Betrayal          3.8         6.0          2003     0.0  Mark L. Lester  betrayal when one of her hits goes wrong a pro...  16942\n",
       "\n",
       "[3 rows x 21 columns]"
      ]
     },
     "execution_count": 7,
     "metadata": {},
     "output_type": "execute_result"
    }
   ],
   "source": [
    "# Create ids column to link title with recomendation\n",
    "\n",
    "pd.options.mode.chained_assignment = None  # disable warning\n",
    "df1[\"ids\"]=[i for i in range(0,df1.shape[0])]\n",
    "df1.tail(3)"
   ]
  },
  {
   "cell_type": "markdown",
   "metadata": {},
   "source": [
    "TF-IDF vectorizer Model"
   ]
  },
  {
   "cell_type": "code",
   "execution_count": 8,
   "metadata": {},
   "outputs": [],
   "source": [
    "#create the TF-IDF model\n",
    "tfidf = TfidfVectorizer(token_pattern = r\"\\b\\w{3,}\\b\", stop_words='english',  ngram_range=(1,2))\n",
    "content = df1.content\n",
    "tfidf_matrix = tfidf.fit_transform(content)\n",
    "cosine_similarities = linear_kernel(tfidf_matrix, tfidf_matrix)"
   ]
  },
  {
   "cell_type": "markdown",
   "metadata": {},
   "source": [
    "COUNT Vectorizer NOT USED (TfidfVectorizer gives better results)"
   ]
  },
  {
   "cell_type": "code",
   "execution_count": 9,
   "metadata": {},
   "outputs": [],
   "source": [
    "# # Count Vectorizer\n",
    "\n",
    "# content = q.dropna()\n",
    "# count_vectorizer = CountVectorizer(token_pattern = r\"\\b\\w{3,}\\b\", stop_words='english',  ngram_range=(1,2))\n",
    "# count_matrix = count_vectorizer.fit_transform(content)\n",
    "# cosine_similarities = None\n",
    "# cosine_similarities = linear_kernel(count_matrix, count_matrix)\n",
    "\n"
   ]
  },
  {
   "cell_type": "code",
   "execution_count": 10,
   "metadata": {},
   "outputs": [],
   "source": [
    "# create list for recomendations column\n",
    "all_recomendations  = []\n",
    "\n",
    "for i in df1.ids:\n",
    "    cosine_similarity_scores = list(enumerate(cosine_similarities[i]))\n",
    "    cosine_similarity_scores = sorted(cosine_similarity_scores, key=lambda x: x[1], reverse=True)\n",
    "    recomendations = []\n",
    "    for s in cosine_similarity_scores[1:6]:\n",
    "        title = df1[df1.ids==s[0]]['title'].to_string(index=False)\n",
    "        recomendations.append(title)\n",
    "\n",
    "    all_recomendations.append(recomendations)\n"
   ]
  },
  {
   "cell_type": "code",
   "execution_count": 11,
   "metadata": {},
   "outputs": [],
   "source": [
    "#Create recomendation column\n",
    "df1['recomendations'] = all_recomendations"
   ]
  },
  {
   "cell_type": "code",
   "execution_count": 12,
   "metadata": {},
   "outputs": [],
   "source": [
    "### Same for df2\n",
    "\n",
    "# Create ids column to link title with recomendation\n",
    "df2[\"ids\"]=[i for i in range(0,df2.shape[0])]\n",
    "\n",
    "#create the TF-IDF model\n",
    "tfidf = TfidfVectorizer(token_pattern = r\"\\b\\w{3,}\\b\", stop_words='english',  ngram_range=(1,2))\n",
    "content = df2.content\n",
    "tfidf_matrix = tfidf.fit_transform(content)\n",
    "cosine_similarities = linear_kernel(tfidf_matrix, tfidf_matrix)\n",
    "\n",
    "# create list for recomendations column\n",
    "all_recomendations  = []\n",
    "\n",
    "for i in df2.ids:\n",
    "    cosine_similarity_scores = list(enumerate(cosine_similarities[i]))\n",
    "    cosine_similarity_scores = sorted(cosine_similarity_scores, key=lambda x: x[1], reverse=True)\n",
    "    recomendations = []\n",
    "    for s in cosine_similarity_scores[1:6]:\n",
    "        title = df1[df1.ids==s[0]]['title'].to_string(index=False)\n",
    "        recomendations.append(title)\n",
    "\n",
    "    all_recomendations.append(recomendations)\n",
    "\n",
    "#Create recomendation column\n",
    "df2['recomendations'] = all_recomendations"
   ]
  },
  {
   "cell_type": "code",
   "execution_count": 14,
   "metadata": {},
   "outputs": [
    {
     "data": {
      "text/plain": [
       "['Toy Story 2',\n",
       " 'Toy Story 3',\n",
       " 'Toy Story of Terror!',\n",
       " 'Toy Story That Time Forgot',\n",
       " 'Small Fry']"
      ]
     },
     "execution_count": 14,
     "metadata": {},
     "output_type": "execute_result"
    }
   ],
   "source": [
    "df1.recomendations[0] #Toy Story"
   ]
  },
  {
   "cell_type": "code",
   "execution_count": null,
   "metadata": {},
   "outputs": [],
   "source": [
    "df2.recomendations[50]\n"
   ]
  },
  {
   "cell_type": "code",
   "execution_count": 24,
   "metadata": {},
   "outputs": [],
   "source": [
    "# Save df1 and df2  with recomendations back into one\n",
    "pd.concat([df1, df2]).to_parquet('data/movies_acotado.pq')\n"
   ]
  }
 ],
 "metadata": {
  "kernelspec": {
   "display_name": "Python 3",
   "language": "python",
   "name": "python3"
  },
  "language_info": {
   "codemirror_mode": {
    "name": "ipython",
    "version": 3
   },
   "file_extension": ".py",
   "mimetype": "text/x-python",
   "name": "python",
   "nbconvert_exporter": "python",
   "pygments_lexer": "ipython3",
   "version": "3.10.12"
  },
  "orig_nbformat": 4
 },
 "nbformat": 4,
 "nbformat_minor": 2
}
